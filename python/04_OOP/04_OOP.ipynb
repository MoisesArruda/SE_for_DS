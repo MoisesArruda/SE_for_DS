{
 "cells": [
  {
   "cell_type": "markdown",
   "metadata": {},
   "source": [
    "# Definindo suas classes."
   ]
  },
  {
   "cell_type": "code",
   "execution_count": 3,
   "metadata": {},
   "outputs": [
    {
     "name": "stdout",
     "output_type": "stream",
     "text": [
      "Ola Ola \n"
     ]
    }
   ],
   "source": [
    "# Classe\n",
    "class RepeatText:\n",
    "    # Método inicial\n",
    "    def __init__(self, n_repeats):\n",
    "        # Paramêtro da função/método\n",
    "        self.n_repeats = n_repeats\n",
    "\n",
    "    # Método da classe\n",
    "    def multiply_text(self, some_text):\n",
    "        print((some_text + \" \")* self.n_repeats)\n",
    "\n",
    "# Instância da classe\n",
    "text_repeat = RepeatText(2)\n",
    "text_repeat.multiply_text(\"Ola\")\n"
   ]
  },
  {
   "cell_type": "code",
   "execution_count": 4,
   "metadata": {},
   "outputs": [],
   "source": [
    "import numpy as np\n",
    "\n",
    "class Goal5Data:\n",
    "\n",
    "    def __init__(self, name, population, women_in_parliament):\n",
    "        self.name = name\n",
    "        self.population = population\n",
    "        self.women_in_parliament = women_in_parliament\n",
    "\n",
    "    def print_summary(self):\n",
    "        null_women_in_parliament = len(self.women_in_parliament) - np.count_nonzero(self.women_in_parliament)\n",
    "        print(f\"There are {len(self.women_in_parliament)} data points for Indicator 5.1.1, 'Proportion of seats held by women in national parliaments'.\"\n",
    "        )\n",
    "        print(f\"{null_women_in_parliament} are nulls.\")"
   ]
  },
  {
   "cell_type": "code",
   "execution_count": 5,
   "metadata": {},
   "outputs": [],
   "source": [
    "usa = Goal5Data(\n",
    "    name=\"USA\",\n",
    "    population=336262544,\n",
    "    women_in_parliament=[\n",
    "        13.33,\n",
    "        14.02,\n",
    "        14.02,\n",
    "        14.25,\n",
    "        14.25,\n",
    "        14.94,\n",
    "        15.17,\n",
    "        16.32,\n",
    "        16.78,\n",
    "        17.01,\n",
    "        16.78,\n",
    "        16.78,\n",
    "        16.82,\n",
    "        17.78,\n",
    "        18.29,\n",
    "        19.35,\n",
    "        19.35,\n",
    "        19.08,\n",
    "        19.49,\n",
    "        23.56,\n",
    "        23.43,\n",
    "        27.25,\n",
    "        27.71,\n",
    "        29.43,\n",
    "    ],\n",
    ")"
   ]
  },
  {
   "cell_type": "code",
   "execution_count": 6,
   "metadata": {},
   "outputs": [
    {
     "data": {
      "text/plain": [
       "336262544"
      ]
     },
     "execution_count": 6,
     "metadata": {},
     "output_type": "execute_result"
    }
   ],
   "source": [
    "usa.population"
   ]
  },
  {
   "cell_type": "code",
   "execution_count": 7,
   "metadata": {},
   "outputs": [
    {
     "name": "stdout",
     "output_type": "stream",
     "text": [
      "There are 24 data points for Indicator 5.1.1, 'Proportion of seats held by women in national parliaments'.\n",
      "0 are nulls.\n"
     ]
    }
   ],
   "source": [
    "usa.print_summary()"
   ]
  },
  {
   "cell_type": "code",
   "execution_count": null,
   "metadata": {},
   "outputs": [],
   "source": []
  }
 ],
 "metadata": {
  "kernelspec": {
   "display_name": ".venv",
   "language": "python",
   "name": "python3"
  },
  "language_info": {
   "codemirror_mode": {
    "name": "ipython",
    "version": 3
   },
   "file_extension": ".py",
   "mimetype": "text/x-python",
   "name": "python",
   "nbconvert_exporter": "python",
   "pygments_lexer": "ipython3",
   "version": "3.10.10"
  }
 },
 "nbformat": 4,
 "nbformat_minor": 2
}
