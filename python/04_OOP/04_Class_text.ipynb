{
 "cells": [
  {
   "cell_type": "markdown",
   "metadata": {},
   "source": [
    "# Criação de classes utilizando ClassMethod para alterar paramêtro da classe."
   ]
  },
  {
   "cell_type": "code",
   "execution_count": 16,
   "metadata": {},
   "outputs": [
    {
     "data": {
      "text/plain": [
       "150"
      ]
     },
     "execution_count": 16,
     "metadata": {},
     "output_type": "execute_result"
    }
   ],
   "source": [
    "class MathFunct():\n",
    "    \n",
    "    n1 = 11\n",
    "\n",
    "    def __init__(self,n2) -> None:\n",
    "\n",
    "        self.n2 = n2\n",
    "\n",
    "    def sum(self) -> int:\n",
    "\n",
    "        n3 = self.n1 + self.n2\n",
    "\n",
    "        return n3\n",
    "\n",
    "    def subtrair(self):\n",
    "\n",
    "        n3 = self.n1 - self.n2\n",
    "\n",
    "        return n3\n",
    "\n",
    "    @classmethod\n",
    "    def modify_numbers(cls,n1):\n",
    "        if cls.n1 <= 10:\n",
    "            cls.n1 = n1\n",
    "        else:\n",
    "            cls.n1 = 150\n",
    "\n",
    "funcoes =  MathFunct(9)\n",
    "# funcoes.sum()\n",
    "funcoes.modify_numbers(59)\n",
    "funcoes.n1\n",
    "# funcoes.subtrair()"
   ]
  },
  {
   "cell_type": "markdown",
   "metadata": {},
   "source": [
    "# Criação de Classe utilizando StaticMethod"
   ]
  },
  {
   "cell_type": "code",
   "execution_count": 24,
   "metadata": {},
   "outputs": [
    {
     "data": {
      "text/plain": [
       "0.55"
      ]
     },
     "execution_count": 24,
     "metadata": {},
     "output_type": "execute_result"
    }
   ],
   "source": [
    "class FunctMath():\n",
    "\n",
    "    def __init__(self, n1, n2) -> None:\n",
    "        \n",
    "        self.n1 = n1\n",
    "        self.n2 = n2\n",
    "    \n",
    "    def sum(self):\n",
    "\n",
    "        n3 = self.n1 + self.n2\n",
    "        return n3\n",
    "\n",
    "    def subtrair(self):\n",
    "\n",
    "        n3 = self.n1 - self.n2\n",
    "        return n3\n",
    "    \n",
    "    @staticmethod\n",
    "    def realizar_algo(x,y):\n",
    "\n",
    "        \n",
    "        z = x / y\n",
    "\n",
    "        return z\n",
    "    \n",
    "teste = FunctMath(1,5).realizar_algo(11,20)\n",
    "teste\n",
    "\n",
    "    "
   ]
  }
 ],
 "metadata": {
  "kernelspec": {
   "display_name": ".venv",
   "language": "python",
   "name": "python3"
  },
  "language_info": {
   "codemirror_mode": {
    "name": "ipython",
    "version": 3
   },
   "file_extension": ".py",
   "mimetype": "text/x-python",
   "name": "python",
   "nbconvert_exporter": "python",
   "pygments_lexer": "ipython3",
   "version": "3.10.10"
  }
 },
 "nbformat": 4,
 "nbformat_minor": 2
}
