{
 "cells": [
  {
   "cell_type": "code",
   "execution_count": null,
   "metadata": {},
   "outputs": [
    {
     "name": "stdout",
     "output_type": "stream",
     "text": [
      "Olá\n"
     ]
    }
   ],
   "source": [
    "import logging\n",
    "from pydantic import BaseModel\n",
    "from typing import Optional\n",
    "import datetime\n",
    "\n",
    "logging.basicConfig(filename=\"teste_logs.log\",filemode='w',level=logging.INFO)\n",
    "\n",
    "class ValidaDados(BaseModel):\n",
    "    input:str\n",
    "    output:Optional[str] = None\n",
    "\n",
    "input = \"Olá\"\n",
    "\n",
    "try:\n",
    "    ValidaDados(input=input)\n",
    "    print(input)\n",
    "    logging.info(f\"Dados de input: {input}\")\n",
    "except Exception as e:\n",
    "    logging.info(f\"Erro recebido: {e}\")"
   ]
  },
  {
   "cell_type": "code",
   "execution_count": null,
   "metadata": {},
   "outputs": [],
   "source": [
    "import logging\n",
    "from pydantic import BaseModel\n",
    "from typing import Optional\n",
    "\n",
    "logging.basicConfig(filename=\"teste_logs.log\",filemode='w',level=logging.INFO, format='%(asctime)s %(message)s')\n",
    "\n",
    "class ValidaDados(BaseModel):\n",
    "    input:str\n",
    "    output:Optional[str]# = None\n",
    "\n",
    "input = \"Olá\"\n",
    "\n",
    "try:\n",
    "    ValidaDados(input=input)\n",
    "    logging.info(f\"Dados de input: {input}\")\n",
    "except Exception as e:\n",
    "    # logging.info(f\"Erro recebido: {e}\")\n",
    "    # Trazer o registro de log completo, não gostei muito, poluí muito\n",
    "    logging.exception(e)"
   ]
  }
 ],
 "metadata": {
  "kernelspec": {
   "display_name": ".venv",
   "language": "python",
   "name": "python3"
  },
  "language_info": {
   "codemirror_mode": {
    "name": "ipython",
    "version": 3
   },
   "file_extension": ".py",
   "mimetype": "text/x-python",
   "name": "python",
   "nbconvert_exporter": "python",
   "pygments_lexer": "ipython3",
   "version": "3.10.10"
  }
 },
 "nbformat": 4,
 "nbformat_minor": 2
}
